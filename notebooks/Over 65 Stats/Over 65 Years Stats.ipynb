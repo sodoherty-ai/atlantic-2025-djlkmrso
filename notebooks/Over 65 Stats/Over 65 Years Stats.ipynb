{
 "cells": [
  {
   "metadata": {},
   "cell_type": "markdown",
   "source": [
    "# Over 65 Data\n",
    "\n",
    "This notebook pulls data from [cso.ie](https://cso.ie) and formats it for our application."
   ],
   "id": "2c1247f53683076d"
  },
  {
   "cell_type": "code",
   "id": "initial_id",
   "metadata": {
    "collapsed": true,
    "ExecuteTime": {
     "end_time": "2025-04-28T06:07:28.216556Z",
     "start_time": "2025-04-28T06:07:28.214050Z"
    }
   },
   "source": "import pandas as pd",
   "outputs": [],
   "execution_count": 56
  },
  {
   "metadata": {},
   "cell_type": "markdown",
   "source": "CSO data is stored in data cubes. First found the ones I wanted using CSO search, then created function to pull and merge all.",
   "id": "c42f6f399bca7c98"
  },
  {
   "metadata": {
    "ExecuteTime": {
     "end_time": "2025-04-28T06:07:29.105755Z",
     "start_time": "2025-04-28T06:07:28.543386Z"
    }
   },
   "cell_type": "code",
   "source": [
    "data_cubes = {\n",
    "    '2011_2016': 'EY015',\n",
    "    '2022': 'FY010A'\n",
    "}\n",
    "\n",
    "dfs = []\n",
    "for code in data_cubes.values():\n",
    "    url = f'https://ws.cso.ie/public/api.restful/PxStat.Data.Cube_API.ReadDataset/{code}/CSV/1.0/en'\n",
    "    df = pd.read_csv(url)\n",
    "    dfs.append(df)\n",
    "\n",
    "df = pd.concat(dfs)\n",
    "df.head()\n",
    "\n",
    "# Appears different years have different fields. Clean up.\n",
    "geo_col = next(c for c in df.columns if c in ('Administrative County', 'County and City'))\n",
    "df = (df.rename(columns={geo_col: 'County'}).query(\"County != 'State'\"))\n",
    "\n",
    "df.to_csv('base_data.csv', index=False)\n",
    "df.head()"
   ],
   "id": "1bbec8056c3a975b",
   "outputs": [
    {
     "data": {
      "text/plain": [
       "   C02199V02655         Sex C03367V04052  County  TLIST(A1)  CensusYear  \\\n",
       "36            -  Both sexes           CW  Carlow       2011        2011   \n",
       "37            -  Both sexes           CW  Carlow       2011        2011   \n",
       "38            -  Both sexes           CW  Carlow       2011        2011   \n",
       "39            -  Both sexes           CW  Carlow       2011        2011   \n",
       "40            -  Both sexes           CW  Carlow       2011        2011   \n",
       "\n",
       "   C02076V03371          Age Group STATISTIC  \\\n",
       "36            -           All ages  EY015C01   \n",
       "37            -           All ages  EY015C02   \n",
       "38            -           All ages  EY015C03   \n",
       "39          575  65 years and over  EY015C01   \n",
       "40          575  65 years and over  EY015C02   \n",
       "\n",
       "                                      Statistic Label    UNIT    VALUE  \\\n",
       "36                      Persons in private households  Number  54187.0   \n",
       "37                               Persons living alone  Number   4341.0   \n",
       "38  Persons living alone as a percentage of person...       %      8.0   \n",
       "39                      Persons in private households  Number   5733.0   \n",
       "40                               Persons living alone  Number   1506.0   \n",
       "\n",
       "   C03789V04537 Administrative Counties  \n",
       "36          NaN                     NaN  \n",
       "37          NaN                     NaN  \n",
       "38          NaN                     NaN  \n",
       "39          NaN                     NaN  \n",
       "40          NaN                     NaN  "
      ],
      "text/html": [
       "<div>\n",
       "<style scoped>\n",
       "    .dataframe tbody tr th:only-of-type {\n",
       "        vertical-align: middle;\n",
       "    }\n",
       "\n",
       "    .dataframe tbody tr th {\n",
       "        vertical-align: top;\n",
       "    }\n",
       "\n",
       "    .dataframe thead th {\n",
       "        text-align: right;\n",
       "    }\n",
       "</style>\n",
       "<table border=\"1\" class=\"dataframe\">\n",
       "  <thead>\n",
       "    <tr style=\"text-align: right;\">\n",
       "      <th></th>\n",
       "      <th>C02199V02655</th>\n",
       "      <th>Sex</th>\n",
       "      <th>C03367V04052</th>\n",
       "      <th>County</th>\n",
       "      <th>TLIST(A1)</th>\n",
       "      <th>CensusYear</th>\n",
       "      <th>C02076V03371</th>\n",
       "      <th>Age Group</th>\n",
       "      <th>STATISTIC</th>\n",
       "      <th>Statistic Label</th>\n",
       "      <th>UNIT</th>\n",
       "      <th>VALUE</th>\n",
       "      <th>C03789V04537</th>\n",
       "      <th>Administrative Counties</th>\n",
       "    </tr>\n",
       "  </thead>\n",
       "  <tbody>\n",
       "    <tr>\n",
       "      <th>36</th>\n",
       "      <td>-</td>\n",
       "      <td>Both sexes</td>\n",
       "      <td>CW</td>\n",
       "      <td>Carlow</td>\n",
       "      <td>2011</td>\n",
       "      <td>2011</td>\n",
       "      <td>-</td>\n",
       "      <td>All ages</td>\n",
       "      <td>EY015C01</td>\n",
       "      <td>Persons in private households</td>\n",
       "      <td>Number</td>\n",
       "      <td>54187.0</td>\n",
       "      <td>NaN</td>\n",
       "      <td>NaN</td>\n",
       "    </tr>\n",
       "    <tr>\n",
       "      <th>37</th>\n",
       "      <td>-</td>\n",
       "      <td>Both sexes</td>\n",
       "      <td>CW</td>\n",
       "      <td>Carlow</td>\n",
       "      <td>2011</td>\n",
       "      <td>2011</td>\n",
       "      <td>-</td>\n",
       "      <td>All ages</td>\n",
       "      <td>EY015C02</td>\n",
       "      <td>Persons living alone</td>\n",
       "      <td>Number</td>\n",
       "      <td>4341.0</td>\n",
       "      <td>NaN</td>\n",
       "      <td>NaN</td>\n",
       "    </tr>\n",
       "    <tr>\n",
       "      <th>38</th>\n",
       "      <td>-</td>\n",
       "      <td>Both sexes</td>\n",
       "      <td>CW</td>\n",
       "      <td>Carlow</td>\n",
       "      <td>2011</td>\n",
       "      <td>2011</td>\n",
       "      <td>-</td>\n",
       "      <td>All ages</td>\n",
       "      <td>EY015C03</td>\n",
       "      <td>Persons living alone as a percentage of person...</td>\n",
       "      <td>%</td>\n",
       "      <td>8.0</td>\n",
       "      <td>NaN</td>\n",
       "      <td>NaN</td>\n",
       "    </tr>\n",
       "    <tr>\n",
       "      <th>39</th>\n",
       "      <td>-</td>\n",
       "      <td>Both sexes</td>\n",
       "      <td>CW</td>\n",
       "      <td>Carlow</td>\n",
       "      <td>2011</td>\n",
       "      <td>2011</td>\n",
       "      <td>575</td>\n",
       "      <td>65 years and over</td>\n",
       "      <td>EY015C01</td>\n",
       "      <td>Persons in private households</td>\n",
       "      <td>Number</td>\n",
       "      <td>5733.0</td>\n",
       "      <td>NaN</td>\n",
       "      <td>NaN</td>\n",
       "    </tr>\n",
       "    <tr>\n",
       "      <th>40</th>\n",
       "      <td>-</td>\n",
       "      <td>Both sexes</td>\n",
       "      <td>CW</td>\n",
       "      <td>Carlow</td>\n",
       "      <td>2011</td>\n",
       "      <td>2011</td>\n",
       "      <td>575</td>\n",
       "      <td>65 years and over</td>\n",
       "      <td>EY015C02</td>\n",
       "      <td>Persons living alone</td>\n",
       "      <td>Number</td>\n",
       "      <td>1506.0</td>\n",
       "      <td>NaN</td>\n",
       "      <td>NaN</td>\n",
       "    </tr>\n",
       "  </tbody>\n",
       "</table>\n",
       "</div>"
      ]
     },
     "execution_count": 57,
     "metadata": {},
     "output_type": "execute_result"
    }
   ],
   "execution_count": 57
  },
  {
   "metadata": {},
   "cell_type": "markdown",
   "source": [
    "### Filter down to just what we want.\n",
    "\n",
    "- Removing the rows that have percentages instead of number values.\n",
    "- Select only those living alone.\n",
    "- Removing rows that have \"Ireland\" as their area for county.\n",
    "- Removing \"all ages\" as we are interested in the 65+\n",
    "\n",
    "After that, some clean up on field values and column merging."
   ],
   "id": "f483a58f27ef3d24"
  },
  {
   "metadata": {
    "ExecuteTime": {
     "end_time": "2025-04-28T06:07:30.803426Z",
     "start_time": "2025-04-28T06:07:30.786853Z"
    }
   },
   "cell_type": "code",
   "source": [
    "df = pd.read_csv('base_data.csv')\n",
    "df = df.query(\n",
    "    # '`Sex` != \"Both sexes\" and '\n",
    "    '`UNIT` == \"Number\" and '\n",
    "    '`Statistic Label` == \"Persons living alone\" and '\n",
    "    '`Administrative Counties` != \"Ireland\" and '\n",
    "    '`Age Group` != \"All ages\"'\n",
    ")\n",
    "\n",
    "df['Administrative Counties'] = df['Administrative Counties'].str.replace('county council', '', case=False).str.strip()\n",
    "df['County'] = df['County'].str.replace('Limerick City &', 'Limerick City and County', case=False).str.strip()\n",
    "df['County'] = df['County'].fillna(df['Administrative Counties'])\n",
    "\n",
    "df = df[['CensusYear', 'County', 'Sex', 'Age Group', 'VALUE']]\n",
    "\n",
    "\n",
    "df.to_csv('filtered.csv', index=False)"
   ],
   "id": "cad3a019f9e480b7",
   "outputs": [],
   "execution_count": 58
  },
  {
   "metadata": {},
   "cell_type": "markdown",
   "source": [
    "### Extrapolate to 2025 using Compound Annual Growth Rate (CAGR).\n",
    "\n",
    "This is done using the following algorithm.\n",
    "\n",
    "$\\text{CAGR} = \\left( \\frac{\\text{Final Value}}{\\text{Starting Value}} \\right)^{\\frac{1}{years}} - 1$\n",
    "\n",
    "Simply: *If growth is smooth and consistent, then what would be the final value?*\n",
    "\n",
    "I also did a quick check of mortality variations, but it only impacted $\\pm1$ so didn't bother to write code to change the values."
   ],
   "id": "5a5cc698abb1c31"
  },
  {
   "metadata": {
    "ExecuteTime": {
     "end_time": "2025-04-28T06:07:31.976947Z",
     "start_time": "2025-04-28T06:07:31.966576Z"
    }
   },
   "cell_type": "code",
   "source": [
    "df = pd.read_csv('filtered.csv')\n",
    "\n",
    "base_year = 2016\n",
    "latest_year = 2022\n",
    "projected_year = 2025\n",
    "year_difference = latest_year - base_year\n",
    "\n",
    "base   = df[df['CensusYear'] == base_year]\n",
    "latest = df[df['CensusYear'] == latest_year]\n",
    "\n",
    "merged = base.merge(\n",
    "    latest,\n",
    "    on=['County', 'Sex', 'Age Group'],\n",
    "    suffixes=(f'_{base_year}', f'_{latest_year}')\n",
    ")\n",
    "\n",
    "merged['cagr'] = (merged[f'VALUE_{latest_year}'] / merged[f'VALUE_{base_year}']) ** (1 / year_difference) - 1\n",
    "merged['VALUE'] = merged[f'VALUE_{latest_year}'] * (1 + merged['cagr']) ** 3\n",
    "\n",
    "projected_df = merged[['County', 'Sex', 'Age Group', 'VALUE']]\n",
    "\n",
    "projected_df = projected_df.copy()\n",
    "\n",
    "projected_df['VALUE'] = projected_df['VALUE'].round(0)\n",
    "projected_df['CensusYear'] = projected_year\n",
    "\n",
    "projected_df = projected_df[['CensusYear', 'County', 'Sex', 'Age Group', 'VALUE']]\n",
    "\n",
    "projected_df.to_csv('projected_2025.csv', index=False)"
   ],
   "id": "6b8218f5fc51f3c1",
   "outputs": [],
   "execution_count": 59
  },
  {
   "metadata": {},
   "cell_type": "markdown",
   "source": [
    "over_65_by_county.csv### Merge in projected to main dataset.\n",
    "\n",
    "Created two datasets for sanity.\n",
    "\n",
    "- `over_65_all_by_county.csv` : All values of 65+ onwards.\n",
    "- `over_65_by_county.csv` : Only the 65+ values. This is the dataset we will use."
   ],
   "id": "585e0074c7859db9"
  },
  {
   "metadata": {
    "ExecuteTime": {
     "end_time": "2025-04-28T06:09:16.377844Z",
     "start_time": "2025-04-28T06:09:16.364644Z"
    }
   },
   "cell_type": "code",
   "source": [
    "filtered = pd.read_csv('filtered.csv')\n",
    "projected = pd.read_csv('projected_2025.csv')\n",
    "\n",
    "final = pd.concat([filtered, projected], ignore_index=True)\n",
    "\n",
    "final = final.sort_values(by=['County', 'CensusYear'])\n",
    "final['Sex'] = final['Sex'].replace('Both sexes', 'All')\n",
    "\n",
    "final.to_csv('over_65_all_by_county.csv', index=False)\n",
    "\n",
    "final = final.query('`Age Group` == \"65 years and over\"')\n",
    "final = final[['CensusYear','County','Sex','VALUE']]\n",
    "\n",
    "final.to_csv('over_65_by_county.csv', index=False)\n",
    "\n"
   ],
   "id": "84319f8eeb768074",
   "outputs": [],
   "execution_count": 62
  },
  {
   "metadata": {},
   "cell_type": "code",
   "outputs": [],
   "execution_count": null,
   "source": "",
   "id": "4ed9d240ef409874"
  }
 ],
 "metadata": {
  "kernelspec": {
   "display_name": "Python 3",
   "language": "python",
   "name": "python3"
  },
  "language_info": {
   "codemirror_mode": {
    "name": "ipython",
    "version": 2
   },
   "file_extension": ".py",
   "mimetype": "text/x-python",
   "name": "python",
   "nbconvert_exporter": "python",
   "pygments_lexer": "ipython2",
   "version": "2.7.6"
  }
 },
 "nbformat": 4,
 "nbformat_minor": 5
}
